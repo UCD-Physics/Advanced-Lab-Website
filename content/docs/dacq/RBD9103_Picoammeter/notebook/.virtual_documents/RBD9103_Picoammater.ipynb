





























import serial

ser = serial.Serial(
    "com3",
    baudrate=57600,
    bytesize=serial.EIGHTBITS,
    parity=serial.PARITY_NONE,
    stopbits=serial.STOPBITS_ONE,
    xonxoff=False,
    timeout=1, # seconds
)  








def data(mystring):
    return bytes(mystring+'\n','utf-8')








# Example: get current configuration
ser.write(data('&Q'))
ser.readlines()


# Example: put in autorange

ser.write(data('&R0')) # put in autorange
ser.readline()


# Example: Set number of Digits

ser.write(data('&V8')) # 8 decimal places
ser.readline()








# Example: request a sample:

ser.write(data("&S"))

ans = ser.readline().decode("utf-8").rstrip()
# convert bytes to string and remove trailing newline and CR

print(ans)


ans.split(',')












